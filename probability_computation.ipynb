{
 "cells": [
  {
   "cell_type": "markdown",
   "id": "33928c4f-b37f-4ae0-b08b-e4396b207c5f",
   "metadata": {},
   "source": [
    "# IE 6200: Computing basic probabilities\n",
    "\n",
    "### MSDAE\n",
    "\n",
    "## Northeastern University\n"
   ]
  },
  {
   "cell_type": "code",
   "execution_count": 8,
   "id": "ace546b1-fda0-4d3d-a309-fe67f92b209d",
   "metadata": {},
   "outputs": [],
   "source": [
    "import pandas as pd"
   ]
  },
  {
   "cell_type": "markdown",
   "id": "fef1bf10-1018-4257-a22a-4fabcd2d4d47",
   "metadata": {},
   "source": [
    "## Loading dataset\n"
   ]
  },
  {
   "cell_type": "code",
   "execution_count": 2,
   "id": "9f1d305c-a9e9-4005-8eb8-a6d7ecd3eaa1",
   "metadata": {},
   "outputs": [
    {
     "data": {
      "text/html": [
       "<div>\n",
       "<style scoped>\n",
       "    .dataframe tbody tr th:only-of-type {\n",
       "        vertical-align: middle;\n",
       "    }\n",
       "\n",
       "    .dataframe tbody tr th {\n",
       "        vertical-align: top;\n",
       "    }\n",
       "\n",
       "    .dataframe thead th {\n",
       "        text-align: right;\n",
       "    }\n",
       "</style>\n",
       "<table border=\"1\" class=\"dataframe\">\n",
       "  <thead>\n",
       "    <tr style=\"text-align: right;\">\n",
       "      <th></th>\n",
       "      <th>species</th>\n",
       "      <th>island</th>\n",
       "      <th>culmen_length_mm</th>\n",
       "      <th>culmen_depth_mm</th>\n",
       "      <th>flipper_length_mm</th>\n",
       "      <th>body_mass_g</th>\n",
       "      <th>sex</th>\n",
       "    </tr>\n",
       "  </thead>\n",
       "  <tbody>\n",
       "    <tr>\n",
       "      <th>0</th>\n",
       "      <td>Adelie</td>\n",
       "      <td>Torgersen</td>\n",
       "      <td>39.1</td>\n",
       "      <td>18.7</td>\n",
       "      <td>181</td>\n",
       "      <td>3750</td>\n",
       "      <td>MALE</td>\n",
       "    </tr>\n",
       "    <tr>\n",
       "      <th>1</th>\n",
       "      <td>Adelie</td>\n",
       "      <td>Torgersen</td>\n",
       "      <td>39.5</td>\n",
       "      <td>17.4</td>\n",
       "      <td>186</td>\n",
       "      <td>3800</td>\n",
       "      <td>FEMALE</td>\n",
       "    </tr>\n",
       "    <tr>\n",
       "      <th>2</th>\n",
       "      <td>Adelie</td>\n",
       "      <td>Torgersen</td>\n",
       "      <td>40.3</td>\n",
       "      <td>18.0</td>\n",
       "      <td>195</td>\n",
       "      <td>3250</td>\n",
       "      <td>FEMALE</td>\n",
       "    </tr>\n",
       "    <tr>\n",
       "      <th>3</th>\n",
       "      <td>Adelie</td>\n",
       "      <td>Torgersen</td>\n",
       "      <td>36.7</td>\n",
       "      <td>19.3</td>\n",
       "      <td>193</td>\n",
       "      <td>3450</td>\n",
       "      <td>FEMALE</td>\n",
       "    </tr>\n",
       "    <tr>\n",
       "      <th>4</th>\n",
       "      <td>Adelie</td>\n",
       "      <td>Torgersen</td>\n",
       "      <td>39.3</td>\n",
       "      <td>20.6</td>\n",
       "      <td>190</td>\n",
       "      <td>3650</td>\n",
       "      <td>MALE</td>\n",
       "    </tr>\n",
       "  </tbody>\n",
       "</table>\n",
       "</div>"
      ],
      "text/plain": [
       "  species     island  culmen_length_mm  culmen_depth_mm  flipper_length_mm  \\\n",
       "0  Adelie  Torgersen              39.1             18.7                181   \n",
       "1  Adelie  Torgersen              39.5             17.4                186   \n",
       "2  Adelie  Torgersen              40.3             18.0                195   \n",
       "3  Adelie  Torgersen              36.7             19.3                193   \n",
       "4  Adelie  Torgersen              39.3             20.6                190   \n",
       "\n",
       "   body_mass_g     sex  \n",
       "0         3750    MALE  \n",
       "1         3800  FEMALE  \n",
       "2         3250  FEMALE  \n",
       "3         3450  FEMALE  \n",
       "4         3650    MALE  "
      ]
     },
     "execution_count": 2,
     "metadata": {},
     "output_type": "execute_result"
    }
   ],
   "source": [
    "penguins_df = pd.read_csv(\"https://raw.githubusercontent.com/qurat-azim/instructionaldatasets/main/data/penguins.csv\")\n",
    "penguins_df.head()"
   ]
  },
  {
   "cell_type": "markdown",
   "id": "5574de2d-c914-46b8-9659-f52f4969f12c",
   "metadata": {},
   "source": [
    "### Computing the probability of selecting Adelie penguin $P(Adelie)$\n"
   ]
  },
  {
   "cell_type": "code",
   "execution_count": 3,
   "id": "9d19a350-0c12-445e-bf47-dcd56ed880a7",
   "metadata": {},
   "outputs": [
    {
     "name": "stdout",
     "output_type": "stream",
     "text": [
      "The probability of Adelie penguins is: 0.4415\n"
     ]
    }
   ],
   "source": [
    "# Calculate the total number of penguins\n",
    "total_penguins = len(penguins_df)\n",
    "\n",
    "# Calculate the number of Adelie penguins\n",
    "adelie_df = penguins_df[penguins_df['species'] == 'Adelie']\n",
    "adelie_penguins = len(adelie_df)\n",
    "\n",
    "# Calculate the probability of Adelie penguins\n",
    "probability_adelie = adelie_penguins / total_penguins\n",
    "\n",
    "# Print the probability\n",
    "print(f\"The probability of Adelie penguins is: {probability_adelie:.4f}\")"
   ]
  },
  {
   "cell_type": "markdown",
   "id": "ff1ffd2d-6475-4492-b72e-c848e7599309",
   "metadata": {},
   "source": [
    "### Computing the probability of selecting male penguin $P(MALE)$\n"
   ]
  },
  {
   "cell_type": "code",
   "execution_count": 4,
   "id": "d7de80e9-2d3f-49cb-9b60-b403e34731d4",
   "metadata": {},
   "outputs": [
    {
     "name": "stdout",
     "output_type": "stream",
     "text": [
      "The probability of MALE penguins is: 0.4912\n"
     ]
    }
   ],
   "source": [
    "# Calculate the total number of penguins\n",
    "total_penguins = len(penguins_df)\n",
    "\n",
    "# Calculate the number of male penguins\n",
    "male_df = penguins_df[penguins_df['sex'] == 'MALE']\n",
    "male_penguins = len(male_df)\n",
    "\n",
    "# Calculate the probability of male penguins\n",
    "probability_male = male_penguins / total_penguins\n",
    "\n",
    "# Print the probability\n",
    "print(f\"The probability of MALE penguins is: {probability_male:.4f}\")"
   ]
  },
  {
   "cell_type": "markdown",
   "id": "e79a431b-75b7-4273-a1c7-f6e628ca1bed",
   "metadata": {},
   "source": [
    "### Computing the probability of selecting a male penguin that is adelie $P(MALE \\cap Adelie)$\n"
   ]
  },
  {
   "cell_type": "code",
   "execution_count": 5,
   "id": "c5f426b8-e264-46e3-9d03-26dfabd98c6c",
   "metadata": {},
   "outputs": [
    {
     "name": "stdout",
     "output_type": "stream",
     "text": [
      "The probability of selecting a male Adelie penguin is: 0.2135\n"
     ]
    }
   ],
   "source": [
    "# Calculate the number of male Adelie penguins\n",
    "male_adelie_df = penguins_df[(penguins_df['sex'] == 'MALE') & (penguins_df['species'] == 'Adelie')]\n",
    "male_adelie_penguins = len(male_adelie_df)\n",
    "\n",
    "# Calculate the probability of selecting a male Adelie penguin\n",
    "probability_male_adelie = male_adelie_penguins / total_penguins\n",
    "\n",
    "# Print the probability\n",
    "print(f\"The probability of selecting a male Adelie penguin is: {probability_male_adelie:.4f}\")\n"
   ]
  },
  {
   "cell_type": "markdown",
   "id": "4f97001b-4888-43fe-8dc9-de52ae73af8d",
   "metadata": {},
   "source": [
    "### Computing the probability of selecting a male given that it is adelie $P(MALE | Adelie)$\n"
   ]
  },
  {
   "cell_type": "code",
   "execution_count": 6,
   "id": "7e56ec09-6909-481b-858a-564c9c3ee644",
   "metadata": {},
   "outputs": [
    {
     "name": "stdout",
     "output_type": "stream",
     "text": [
      "The probability of selecting a male given that it is Adelie is: 0.4834\n"
     ]
    }
   ],
   "source": [
    "# Calculate the number of Adelie penguins\n",
    "adelie_df = penguins_df[penguins_df['species'] == 'Adelie']\n",
    "adelie_penguins = len(adelie_df)\n",
    "\n",
    "# Calculate the number of male Adelie penguins\n",
    "male_adelie_df = penguins_df[(penguins_df['sex'] == 'MALE') & (penguins_df['species'] == 'Adelie')]\n",
    "male_adelie_penguins = len(male_adelie_df)\n",
    "\n",
    "# Calculate the probability of selecting a male given that it is Adelie\n",
    "probability_male_given_adelie = male_adelie_penguins / adelie_penguins\n",
    "\n",
    "# Print the probability\n",
    "print(f\"The probability of selecting a male given that it is Adelie is: {probability_male_given_adelie:.4f}\")\n"
   ]
  },
  {
   "cell_type": "markdown",
   "id": "dfd10ca5-166d-4849-951a-18d08cda8d37",
   "metadata": {},
   "source": [
    "## In Class Activity (~10 min)\n",
    "\n",
    "- Load the dataset [linked here](https://raw.githubusercontent.com/qurat-azim/instructionaldatasets/main/data/Mass_Municipalities.csv)\n",
    "- Display the head\n",
    "- If I select a random municipality, what is the probability that it will be a Town?\n",
    "- What is the probability of selecting a municipality that is a city and in the county of Norfolk?\n",
    "- Given that the per capita income in the municipality is at least 60,000, what is the prabability that the municipatity is a city?\n"
   ]
  },
  {
   "cell_type": "code",
   "execution_count": 21,
   "id": "425440a3-fac7-485e-8774-05d619e83a14",
   "metadata": {},
   "outputs": [
    {
     "name": "stdout",
     "output_type": "stream",
     "text": [
      "The probability of selecting a town is: 0.8414\n",
      "The probability of selecting a city in Norfolk County is: 0.0142\n"
     ]
    }
   ],
   "source": [
    "import pandas as pd\n",
    "mass_mun = pd.read_csv(\"https://raw.githubusercontent.com/qurat-azim/instructionaldatasets/main/data/Mass_Municipalities.csv\")\n",
    "mass_mun.head()\n",
    "len(mass_mun)\n",
    "town_mun = mass_mun[mass_mun['Type'] == 'Town']\n",
    "len(town_mun)\n",
    "probability_town = len(town_mun) / len(mass_mun)\n",
    "print(f\"The probability of selecting a town is: {probability_town:.4f}\")\n",
    "city_and_county_norfolk = mass_mun[(mass_mun['Type'] == 'City') & (mass_mun['County'] == 'Norfolk')]\n",
    "probability_city_and_county_norfolk = len(city_and_county_norfolk) / len(mass_mun)\n",
    "print(f\"The probability of selecting a city in Norfolk County is: {probability_city_and_county_norfolk:.4f}\")\n",
    "per_capital_and_city = mass_mun[(mass_mun['Type'] == 'City') & (mass_mun['Per Capita Income'] >= 60_000)]\n",
    "probability_Per_capital_and_city = len(per_capital_and_city) / len(mass_mun)"
   ]
  },
  {
   "cell_type": "code",
   "execution_count": null,
   "id": "49e90544",
   "metadata": {},
   "outputs": [],
   "source": []
  }
 ],
 "metadata": {
  "kernelspec": {
   "display_name": "Python 3 (ipykernel)",
   "language": "python",
   "name": "python3"
  },
  "language_info": {
   "codemirror_mode": {
    "name": "ipython",
    "version": 3
   },
   "file_extension": ".py",
   "mimetype": "text/x-python",
   "name": "python",
   "nbconvert_exporter": "python",
   "pygments_lexer": "ipython3",
   "version": "3.12.5"
  }
 },
 "nbformat": 4,
 "nbformat_minor": 5
}
